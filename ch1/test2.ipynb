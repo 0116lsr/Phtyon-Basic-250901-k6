{
 "cells": [
  {
   "cell_type": "code",
   "execution_count": 1,
   "id": "8dc598f111e163f9",
   "metadata": {
    "ExecuteTime": {
     "end_time": "2025-09-02T00:17:00.572632Z",
     "start_time": "2025-09-02T00:17:00.565424Z"
    }
   },
   "outputs": [
    {
     "name": "stdout",
     "output_type": "stream",
     "text": [
      "헬로우 파이썬\n"
     ]
    }
   ],
   "source": [
    "# ========================================\n",
    "# 파이썬 기초 1장: 기본 문법과 출력\n",
    "# ========================================\n",
    "# \n",
    "# 📚 상세 학습 가이드: 학습가이드/01-파이썬기본문법.md\n",
    "# 🔗 관련 챕터: 1장 - 파이썬 기본 문법\n",
    "# \n",
    "# 이 노트북은 파이썬의 가장 기본적인 문법들을 학습하는 예제입니다.\n",
    "# 각 셀마다 상세한 설명이 포함되어 있어 초보자도 쉽게 이해할 수 있습니다.\n",
    "\n",
    "# ========================================\n",
    "# 📌 print() 함수 학습\n",
    "# ========================================\n",
    "# \n",
    "# print()는 파이썬에서 가장 기본적인 함수로, \n",
    "# 괄호 안의 내용을 화면(콘솔)에 출력하는 역할을 합니다.\n",
    "# \n",
    "# 🔍 다른 프로그래밍 언어와의 비교:\n",
    "# - JavaScript: console.log()\n",
    "# - Java: System.out.println()\n",
    "# - C: printf()\n",
    "# \n",
    "# 📖 더 자세한 내용: 학습가이드/01-파이썬기본문법.md#1-print-함수\n",
    "\n",
    "print(\"헬로우 파이썬\")  # 문자열 출력 - 따옴표 안의 텍스트가 그대로 출력됩니다"
   ]
  },
  {
   "cell_type": "code",
   "execution_count": 1,
   "id": "d6047d473c68d158",
   "metadata": {
    "ExecuteTime": {
     "end_time": "2025-09-01T02:25:42.980838Z",
     "start_time": "2025-09-01T02:25:42.977695Z"
    }
   },
   "outputs": [
    {
     "name": "stdout",
     "output_type": "stream",
     "text": [
      "작업중\n"
     ]
    }
   ],
   "source": [
    "# ========================================\n",
    "# 📌 변수와 출력\n",
    "# ========================================\n",
    "# \n",
    "# 변수는 데이터를 저장하는 상자라고 생각하면 됩니다.\n",
    "# 변수에 값을 저장하고, 그 값을 출력할 수 있습니다.\n",
    "# \n",
    "# 📖 더 자세한 내용: 학습가이드/01-파이썬기본문법.md#2-변수-variable\n",
    "\n",
    "print(\"작업중\")  # 문자열을 직접 출력"
   ]
  },
  {
   "cell_type": "code",
   "execution_count": 4,
   "id": "56c03f195da07520",
   "metadata": {
    "ExecuteTime": {
     "end_time": "2025-09-01T02:26:43.975140Z",
     "start_time": "2025-09-01T02:26:43.970232Z"
    }
   },
   "outputs": [
    {
     "name": "stdout",
     "output_type": "stream",
     "text": [
      "10\n",
      "10.0\n"
     ]
    }
   ],
   "source": [
    "# ========================================\n",
    "# 📌 데이터 타입 변환 (Type Conversion)\n",
    "# ========================================\n",
    "\n",
    "# 🔍 타입 변환이란?\n",
    "# 데이터를 한 타입에서 다른 타입으로 바꾸는 것을 말합니다.\n",
    "# 예: 정수 → 실수, 실수 → 정수, 숫자 → 문자열 등\n",
    "\n",
    "# 📌 int() 함수: 실수를 정수로 변환\n",
    "# 소수점 이하를 버리고 정수 부분만 가져옵니다.\n",
    "a = int(10.3)  # 10.3을 정수로 변환 → 10\n",
    "print(a)       # 결과: 10\n",
    "\n",
    "# 📌 float() 함수: 정수를 실수로 변환\n",
    "# 정수에 소수점을 추가하여 실수로 만듭니다.\n",
    "b = float(a)   # 10을 실수로 변환 → 10.0\n",
    "print(b)       # 결과: 10.0\n",
    "\n",
    "# 💡 왜 타입 변환이 필요할까요?\n",
    "# - 계산 결과가 정확해야 할 때 (정수 연산 vs 실수 연산)\n",
    "# - 데이터를 저장하거나 전송할 때 특정 형식이 필요할 때\n",
    "# - 사용자 입력을 받을 때 (input()은 항상 문자열로 받음)"
   ]
  },
  {
   "cell_type": "markdown",
   "id": "e73f9b0d",
   "metadata": {},
   "source": []
  },
  {
   "cell_type": "code",
   "execution_count": 6,
   "id": "9f5ef5c95897f5e4",
   "metadata": {
    "ExecuteTime": {
     "end_time": "2025-09-01T02:30:38.627233Z",
     "start_time": "2025-09-01T02:30:38.623653Z"
    }
   },
   "outputs": [
    {
     "name": "stdout",
     "output_type": "stream",
     "text": [
      "123\n",
      "<class 'str'>\n"
     ]
    }
   ],
   "source": [
    "# ========================================\n",
    "# 📌 str() 함수와 type() 함수\n",
    "# ========================================\n",
    "\n",
    "# 📌 str() 함수: 숫자를 문자열로 변환\n",
    "# 숫자 123을 문자열 \"123\"으로 변환합니다.\n",
    "x = str(123)  # 정수 123을 문자열로 변환\n",
    "print(x)      # 결과: \"123\" (문자열)\n",
    "\n",
    "# 📌 type() 함수: 변수의 데이터 타입 확인\n",
    "# 변수가 어떤 타입인지 확인할 수 있습니다.\n",
    "print(type(x))  # 결과: <class 'str'> (문자열 타입)\n",
    "\n",
    "# 💡 타입 확인의 중요성\n",
    "# - 변수가 예상한 타입인지 확인할 때\n",
    "# - 디버깅할 때 (오류의 원인을 찾을 때)\n",
    "# - 타입 변환이 제대로 되었는지 확인할 때\n",
    "\n",
    "# 🔍 다른 타입들도 확인해보기\n",
    "print(type(123))     # <class 'int'> (정수)\n",
    "print(type(123.45))  # <class 'float'> (실수)\n",
    "print(type(True))    # <class 'bool'> (불린)"
   ]
  },
  {
   "cell_type": "code",
   "execution_count": 8,
   "id": "76dfb00b2c7a6d67",
   "metadata": {
    "ExecuteTime": {
     "end_time": "2025-09-01T02:31:21.591151Z",
     "start_time": "2025-09-01T02:31:21.587478Z"
    }
   },
   "outputs": [
    {
     "ename": "",
     "evalue": "",
     "output_type": "error",
     "traceback": [
      "\u001b[1;31mFailed to start the Kernel. \n",
      "\u001b[1;31mUnable to start Kernel 'Python 3.13.7' due to a timeout waiting for the ports to get used. \n",
      "\u001b[1;31mView Jupyter <a href='command:jupyter.viewOutput'>log</a> for further details."
     ]
    }
   ],
   "source": [
    "print(1 == True)\n",
    "print(\"\" == False)"
   ]
  },
  {
   "cell_type": "code",
   "execution_count": 11,
   "id": "8e488b1fc9eaff7f",
   "metadata": {
    "ExecuteTime": {
     "end_time": "2025-09-01T02:35:22.361902Z",
     "start_time": "2025-09-01T02:35:22.356485Z"
    }
   },
   "outputs": [
    {
     "name": "stdout",
     "output_type": "stream",
     "text": [
      "78.6\n",
      "<class 'str'>\n",
      "<class 'float'>\n",
      "<class 'float'>\n"
     ]
    }
   ],
   "source": [
    "a = '76.3'\n",
    "b= float(a)\n",
    "c = 2.3\n",
    "# print(a+b)\n",
    "print(b + c)\n",
    "print(type(a))\n",
    "print(type(b))\n",
    "print(type(c))"
   ]
  },
  {
   "cell_type": "code",
   "execution_count": 12,
   "id": "81483719029fa6",
   "metadata": {
    "ExecuteTime": {
     "end_time": "2025-09-01T02:38:02.670189Z",
     "start_time": "2025-09-01T02:38:02.665012Z"
    }
   },
   "outputs": [
    {
     "name": "stdout",
     "output_type": "stream",
     "text": [
      "이름 : 상용, 나이 : 42\n"
     ]
    }
   ],
   "source": [
    "# 출력방식,\n",
    "# 1. % 연산자 방식\n",
    "name = \"상용\"\n",
    "age = 42\n",
    "print(\"이름 : %s, 나이 : %d\" % (name, age))"
   ]
  },
  {
   "cell_type": "code",
   "execution_count": 13,
   "id": "c19e8511793c3a4e",
   "metadata": {
    "ExecuteTime": {
     "end_time": "2025-09-01T02:39:31.981440Z",
     "start_time": "2025-09-01T02:39:31.976814Z"
    }
   },
   "outputs": [
    {
     "name": "stdout",
     "output_type": "stream",
     "text": [
      "이름 : 상용, 나이 : 42\n"
     ]
    }
   ],
   "source": [
    "# f-string 형식 (파이썬 3.6 +권장)\n",
    "# 개인적으로 이방식으로 출력하는 것을 추천함.\n",
    "name = \"상용\"\n",
    "age = 42\n",
    "print(f\"이름 : {name}, 나이 : {age}\")"
   ]
  },
  {
   "cell_type": "code",
   "execution_count": 2,
   "id": "8be109c92bc154aa",
   "metadata": {
    "ExecuteTime": {
     "end_time": "2025-09-02T00:23:31.526089Z",
     "start_time": "2025-09-02T00:23:04.721507Z"
    }
   },
   "outputs": [
    {
     "name": "stdout",
     "output_type": "stream",
     "text": [
      "오늘 점심 뭐 먹죠?\n",
      "오늘 먹을 점심 메뉴 : 입력한 내용을 터미널 콘솔에서 입력을 받아서, 출력을 다시 콘솔 터미널에 출력 해보기\n",
      "\n"
     ]
    }
   ],
   "source": [
    "print(\"오늘 점심 뭐 먹죠?\")\n",
    "lunch = input()\n",
    "print(f\"오늘 먹을 점심 메뉴 : {lunch}\")"
   ]
  },
  {
   "cell_type": "code",
   "execution_count": 15,
   "id": "3fc7966fd048aab5",
   "metadata": {
    "ExecuteTime": {
     "end_time": "2025-09-01T02:47:43.717539Z",
     "start_time": "2025-09-01T02:47:23.816740Z"
    }
   },
   "outputs": [
    {
     "name": "stdout",
     "output_type": "stream",
     "text": [
      "오늘 먹을 점심 메뉴2 : 도시락2\n"
     ]
    }
   ],
   "source": [
    "lunch = input(\"오늘 점심 뭐 먹죠2?\")\n",
    "print(f\"오늘 먹을 점심 메뉴2 : {lunch}\")"
   ]
  },
  {
   "cell_type": "code",
   "execution_count": 27,
   "id": "30844f16819167b9",
   "metadata": {
    "ExecuteTime": {
     "end_time": "2025-09-01T05:11:38.183913Z",
     "start_time": "2025-09-01T05:11:38.178679Z"
    }
   },
   "outputs": [
    {
     "name": "stdout",
     "output_type": "stream",
     "text": [
      "[1, 2, 3]\n",
      "[4, 5, 6]\n",
      "[1, 2]\n",
      "[5, 6]\n",
      "[1, 2, 3, 100]\n",
      "[1, 2, 3, 100, 4, 5, 6]\n",
      "[6, 5, 4, 100, 3, 2, 1]\n",
      "[1, 3, 4, 6]\n",
      "[1, 2, 3, 100, 4, 5, 6, 4, 5, 6]\n"
     ]
    }
   ],
   "source": [
    "a = [1,2.0,\"3\"] # 실제 작업시에는, 같은 타입의 모델을 만들어서 작업, 꺼내기가 쉽다.\n",
    "b = [4,5,6]\n",
    "print(a)\n",
    "print(b)\n",
    "print(a[0:2])\n",
    "print(b[-2:])\n",
    "a.append(100)\n",
    "print(a[:])\n",
    "a.extend(b)\n",
    "print(a)\n",
    "print(a[::-1])\n",
    "print(a[::2])\n",
    "c = a + b\n",
    "print(c)"
   ]
  },
  {
   "cell_type": "code",
   "execution_count": 31,
   "id": "ad9c66b32a4cfeaf",
   "metadata": {
    "ExecuteTime": {
     "end_time": "2025-09-01T05:17:22.327707Z",
     "start_time": "2025-09-01T05:17:22.323356Z"
    }
   },
   "outputs": [
    {
     "name": "stdout",
     "output_type": "stream",
     "text": [
      "[1, 100, 2, 3]\n",
      "[1, 2, 3]\n"
     ]
    }
   ],
   "source": [
    "a = [1,2,3]\n",
    "a.insert(1,100)\n",
    "print(a)\n",
    "a.remove(100)\n",
    "print(a)"
   ]
  },
  {
   "cell_type": "code",
   "execution_count": 4,
   "id": "2a38fce0a5782345",
   "metadata": {
    "ExecuteTime": {
     "end_time": "2025-09-02T00:30:15.719538Z",
     "start_time": "2025-09-02T00:30:15.713520Z"
    }
   },
   "outputs": [
    {
     "name": "stdout",
     "output_type": "stream",
     "text": [
      "거짓\n"
     ]
    }
   ],
   "source": [
    "if 3>4:\n",
    "  print('참')\n",
    "else:\n",
    "  print('거짓')"
   ]
  },
  {
   "cell_type": "code",
   "execution_count": 34,
   "id": "4ebfcdd422dff7c6",
   "metadata": {
    "ExecuteTime": {
     "end_time": "2025-09-01T06:06:03.322124Z",
     "start_time": "2025-09-01T06:06:03.314918Z"
    }
   },
   "outputs": [
    {
     "name": "stdout",
     "output_type": "stream",
     "text": [
      "0\n",
      "2\n",
      "4\n",
      "6\n",
      "8\n"
     ]
    }
   ],
   "source": [
    "for i in range(0,10,2):\n",
    "  print(i)"
   ]
  },
  {
   "cell_type": "code",
   "execution_count": 35,
   "id": "1532396649f1e894",
   "metadata": {
    "ExecuteTime": {
     "end_time": "2025-09-01T06:08:25.843731Z",
     "start_time": "2025-09-01T06:08:25.835681Z"
    }
   },
   "outputs": [
    {
     "name": "stdout",
     "output_type": "stream",
     "text": [
      "10\n",
      "9\n",
      "8\n",
      "7\n",
      "6\n",
      "5\n",
      "4\n",
      "3\n",
      "2\n"
     ]
    }
   ],
   "source": [
    "for i in range(10,1,-1):\n",
    "  print(i)"
   ]
  },
  {
   "cell_type": "code",
   "execution_count": null,
   "id": "810becdae248f898",
   "metadata": {},
   "outputs": [],
   "source": []
  }
 ],
 "metadata": {
  "kernelspec": {
   "display_name": "Python 3",
   "language": "python",
   "name": "python3"
  },
  "language_info": {
   "codemirror_mode": {
    "name": "ipython",
    "version": 3
   },
   "file_extension": ".py",
   "mimetype": "text/x-python",
   "name": "python",
   "nbconvert_exporter": "python",
   "pygments_lexer": "ipython3",
   "version": "3.13.7"
  }
 },
 "nbformat": 4,
 "nbformat_minor": 5
}
