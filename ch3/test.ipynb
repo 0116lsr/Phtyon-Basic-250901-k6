{
 "cells": [
  {
   "cell_type": "code",
   "execution_count": 3,
   "id": "dcbc2abf79894fec",
   "metadata": {
    "ExecuteTime": {
     "end_time": "2025-09-01T07:17:35.130665Z",
     "start_time": "2025-09-01T07:17:35.126274Z"
    }
   },
   "outputs": [
    {
     "name": "stdout",
     "output_type": "stream",
     "text": [
      "spam(ham)호출 하기 전의 ham의 id(메모리위치주솟값 정수로표현) : 2411148986240\n",
      "eggs의 id(메모리위치주솟값 정수로표현) : 2411148986240\n",
      "eggs.append(1) 후, eggs의 id2(메모리위치주솟값 정수로표현) : 2411148986240\n",
      "eggs = [2,3] 후, eggs의 id3(메모리위치주솟값 정수로표현) :2411149080896\n",
      "spam(ham)호출 하기 후의 ham의 id(메모리위치주솟값 정수로표현) : 2411148986240\n"
     ]
    }
   ],
   "source": [
    "# ========================================\n",
    "# 파이썬 기초 2장: 함수와 문자열 처리\n",
    "# ========================================\n",
    "# \n",
    "# 📚 상세 학습 가이드: 학습가이드/02-함수와문자열처리.md\n",
    "# 🔗 관련 챕터: 2장 - 함수와 문자열 처리\n",
    "# \n",
    "# 이 노트북은 파이썬의 함수 정의, 호출, 그리고 문자열 처리 방법을 학습하는 예제입니다.\n",
    "# 함수는 코드를 재사용 가능하게 만들어주는 파이썬의 핵심 기능입니다.\n",
    "\n",
    "# ========================================\n",
    "# 📌 참조에 의한 호출 vs 값에 의한 호출\n",
    "# ========================================\n",
    "# \n",
    "# 파이썬에서는 데이터 타입에 따라 함수에 전달되는 방식이 다릅니다.\n",
    "# 리스트, 딕셔너리 등은 참조로 전달되어 함수 내에서 변경하면 원본도 변경됩니다.\n",
    "# \n",
    "# 📖 더 자세한 내용: 학습가이드/02-함수와문자열처리.md#3-참조에-의한-호출-vs-값에-의한-호출\n",
    "\n",
    "def spam(eggs):\n",
    "    \"\"\"\n",
    "    참조에 의한 호출을 보여주는 함수\n",
    "    \n",
    "    매개변수:\n",
    "        eggs (list): 리스트 (참조로 전달됨)\n",
    "    \"\"\"\n",
    "    print(f\"eggs의 id(메모리위치주솟값 정수로표현) : {id(eggs)}\")\n",
    "    eggs.append(1) # [0,1] : 원본 리스트에 요소 추가\n",
    "    print(f\"eggs.append(1) 후, eggs의 id2(메모리위치주솟값 정수로표현) : {id(eggs)}\")\n",
    "    eggs = [2,3] # 새로운 객체를 재할당 (지역 변수만 변경)\n",
    "    print(f\"eggs = [2,3] 후, eggs의 id3(메모리위치주솟값 정수로표현) :{id(eggs)}\")\n",
    "\n",
    "# 함수 사용\n",
    "ham = [0] # 요소가 0인 리스트 준비\n",
    "print(f\"spam(ham)호출 하기 전의 ham의 id(메모리위치주솟값 정수로표현) : {id(ham)}\")\n",
    "spam(ham)\n",
    "print(f\"spam(ham)호출 하기 후의 ham의 id(메모리위치주솟값 정수로표현) : {id(ham)}\")\n",
    "print(f\"ham의 최종 내용: {ham}\")  # append(1)로 인해 [0, 1]이 됨"
   ]
  },
  {
   "cell_type": "code",
   "execution_count": 2,
   "id": "8f170209c64de094",
   "metadata": {
    "ExecuteTime": {
     "end_time": "2025-09-02T00:37:59.891949Z",
     "start_time": "2025-09-02T00:37:59.881765Z"
    }
   },
   "outputs": [
    {
     "name": "stdout",
     "output_type": "stream",
     "text": [
      "lsy\n",
      "lsy\n"
     ]
    }
   ],
   "source": [
    "def f():\n",
    "    global s # 키워드 global , 전역으로 변경.\n",
    "    s = \"lsy\" # 원래는 지역 변수\n",
    "    print(s)\n",
    "s = \"abc\"\n",
    "f()\n",
    "print(s)"
   ]
  },
  {
   "cell_type": "code",
   "execution_count": 2,
   "id": "bf730536a3166bd4",
   "metadata": {
    "ExecuteTime": {
     "end_time": "2025-09-02T01:08:09.309822Z",
     "start_time": "2025-09-02T01:08:09.303476Z"
    }
   },
   "outputs": [
    {
     "name": "stdout",
     "output_type": "stream",
     "text": [
      "(1, 2, [3])\n",
      "(1, 2, [3, 4])\n",
      "(1, 2, [3, 4, 5])\n"
     ]
    }
   ],
   "source": [
    "def abc(*a):\n",
    "    x,y,*z = a\n",
    "    return  x,y,z\n",
    "print(abc(1,2,3))\n",
    "print(abc(1,2,3,4))\n",
    "print(abc(1,2,3,4,5))"
   ]
  },
  {
   "cell_type": "code",
   "execution_count": 4,
   "id": "f1f071119b894388",
   "metadata": {
    "ExecuteTime": {
     "end_time": "2025-09-02T01:13:09.404376Z",
     "start_time": "2025-09-02T01:13:09.399373Z"
    }
   },
   "outputs": [
    {
     "name": "stdout",
     "output_type": "stream",
     "text": [
      "{'first': 1, 'second': 2, 'third': 3}\n",
      "value : 1\n"
     ]
    }
   ],
   "source": [
    "def aaa(**keys):\n",
    "    print(keys)\n",
    "    print(f\"value : {keys['first']}\")\n",
    "aaa(first=1, second=2, third=3) # 키워드 가변 인수에서는 인자값을 딕션너리 형태로 입력."
   ]
  },
  {
   "cell_type": "code",
   "execution_count": 6,
   "id": "fd7dda5b3f875d03",
   "metadata": {
    "ExecuteTime": {
     "end_time": "2025-09-02T01:20:27.522474Z",
     "start_time": "2025-09-02T01:20:27.515668Z"
    }
   },
   "outputs": [
    {
     "name": "stdout",
     "output_type": "stream",
     "text": [
      "ab\n",
      "cba\n"
     ]
    }
   ],
   "source": [
    "str = \"abc\"\n",
    "print(str[0:2:1])\n",
    "print(str[::-1])"
   ]
  },
  {
   "cell_type": "code",
   "execution_count": 8,
   "id": "b1a41184f398dc4d",
   "metadata": {
    "ExecuteTime": {
     "end_time": "2025-09-02T01:41:03.007823Z",
     "start_time": "2025-09-02T01:39:27.738391Z"
    }
   },
   "outputs": [
    {
     "name": "stdout",
     "output_type": "stream",
     "text": [
      "노래 가사에서 yesterday 단어 갯수 확인 : 9\n"
     ]
    }
   ],
   "source": [
    "f = open(\"yesterday.txt\",\"r\")\n",
    "yesterday_lyric = f.readlines()\n",
    "f.close()\n",
    "\n",
    "contents = \"\"\n",
    "for line in yesterday_lyric:\n",
    "    contents = contents + line.strip() + \"\\n\"\n",
    "number_of_yesterday = contents.upper().count(\"YESTERDAY\")\n",
    "print(f\"노래 가사에서 yesterday 단어 갯수 확인 : {number_of_yesterday}\")"
   ]
  },
  {
   "cell_type": "code",
   "execution_count": 9,
   "id": "2579c529256564ae",
   "metadata": {
    "ExecuteTime": {
     "end_time": "2025-09-02T01:45:25.338692Z",
     "start_time": "2025-09-02T01:45:25.331089Z"
    }
   },
   "outputs": [
    {
     "name": "stdout",
     "output_type": "stream",
     "text": [
      "둘째 자리까지: 3.14\n",
      "넷째 자리까지: 3.1416\n",
      "정수로: 3\n"
     ]
    }
   ],
   "source": [
    "# 문자열 출력시에는 f-string  권장하고,\n",
    "# 만약에, 소숫점을 표현 할 일 있다면, -> ai 모델의 정확도, 오차률, 측정시 필요함. 그외에는 잘 안씀.\n",
    "#\n",
    "number = 3.14159265\n",
    "\n",
    "# 소수점 둘째 자리까지 표기\n",
    "print(f\"둘째 자리까지: {number:.2f}\")\n",
    "\n",
    "# 소수점 넷째 자리까지 표기\n",
    "print(f\"넷째 자리까지: {number:.4f}\")\n",
    "\n",
    "# 소수점 자리를 표기하지 않음 (정수로 표기)\n",
    "print(f\"정수로: {number:.0f}\")"
   ]
  }
 ],
 "metadata": {
  "kernelspec": {
   "display_name": "Python 3",
   "language": "python",
   "name": "python3"
  },
  "language_info": {
   "codemirror_mode": {
    "name": "ipython",
    "version": 3
   },
   "file_extension": ".py",
   "mimetype": "text/x-python",
   "name": "python",
   "nbconvert_exporter": "python",
   "pygments_lexer": "ipython3",
   "version": "3.13.7"
  }
 },
 "nbformat": 4,
 "nbformat_minor": 5
}
