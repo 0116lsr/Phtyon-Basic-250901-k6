{
 "cells": [
  {
   "cell_type": "markdown",
   "metadata": {},
   "source": [
    "# Task 2: 리스트 컴프리헨션을 사용한 제곱 리스트 생성\n",
    "\n",
    "## 과제 내용\n",
    "1부터 10까지 숫자의 제곱을 포함하는 리스트를 리스트 컴프리헨션을 사용하여 생성하세요.\n",
    "\n",
    "### 학습 목표\n",
    "- 리스트 컴프리헨션(List Comprehension) 문법 이해\n",
    "- 반복문과 리스트 컴프리헨션의 차이점 파악\n",
    "- 다양한 리스트 컴프리헨션 패턴 학습\n"
   ]
  },
  {
   "cell_type": "code",
   "execution_count": 1,
   "metadata": {
    "ExecuteTime": {
     "end_time": "2025-09-05T04:54:46.448707Z",
     "start_time": "2025-09-05T04:54:46.440147Z"
    }
   },
   "outputs": [
    {
     "name": "stdout",
     "output_type": "stream",
     "text": [
      "📚 리스트 컴프리헨션 기본 문법:\n",
      "리스트 = [표현식 for 항목 in 반복가능객체]\n",
      "\n",
      "🔢 1부터 10까지 숫자의 제곱 리스트 생성\n",
      "--------------------------------------------------\n",
      "리스트 컴프리헨션 결과: [1, 4, 9, 16, 25, 36, 49, 64, 81, 100]\n",
      "\n",
      "📋 숫자별 제곱값:\n",
      "  1² = 1\n",
      "  2² = 4\n",
      "  3² = 9\n",
      "  4² = 16\n",
      "  5² = 25\n",
      "  6² = 36\n",
      "  7² = 49\n",
      "  8² = 64\n",
      "  9² = 81\n",
      "  10² = 100\n"
     ]
    }
   ],
   "source": [
    "# 기본 리스트 컴프리헨션 문법 설명\n",
    "print(\"📚 리스트 컴프리헨션 기본 문법:\")\n",
    "print(\"리스트 = [표현식 for 항목 in 반복가능객체]\")\n",
    "print()\n",
    "\n",
    "# 1부터 10까지 숫자의 제곱을 리스트 컴프리헨션으로 생성\n",
    "print(\"🔢 1부터 10까지 숫자의 제곱 리스트 생성\")\n",
    "print(\"-\" * 50)\n",
    "\n",
    "# 리스트 컴프리헨션 사용\n",
    "squares = [x**2 for x in range(1, 11)]\n",
    "print(f\"리스트 컴프리헨션 결과: {squares}\")\n",
    "\n",
    "# 각 숫자와 제곱값을 함께 출력\n",
    "print(\"\\n📋 숫자별 제곱값:\")\n",
    "for i, square in enumerate(squares, 1):\n",
    "    print(f\"  {i}² = {square}\")\n"
   ]
  },
  {
   "cell_type": "code",
   "execution_count": 2,
   "metadata": {
    "ExecuteTime": {
     "end_time": "2025-09-05T04:55:04.045791Z",
     "start_time": "2025-09-05T04:55:04.040145Z"
    }
   },
   "outputs": [
    {
     "name": "stdout",
     "output_type": "stream",
     "text": [
      "🔄 반복문 vs 리스트 컴프리헨션 비교\n",
      "============================================================\n",
      "1️⃣ 일반적인 for 반복문:\n",
      "결과: [1, 4, 9, 16, 25, 36, 49, 64, 81, 100]\n",
      "\n",
      "2️⃣ 리스트 컴프리헨션:\n",
      "결과: [1, 4, 9, 16, 25, 36, 49, 64, 81, 100]\n",
      "\n",
      "✅ 두 방법의 결과가 같은가? True\n",
      "\n",
      "📏 코드 길이 비교:\n",
      "반복문: 3줄\n",
      "리스트 컴프리헨션: 1줄\n",
      "→ 리스트 컴프리헨션이 더 간결하고 읽기 쉽습니다!\n"
     ]
    }
   ],
   "source": [
    "# 반복문과 리스트 컴프리헨션 비교\n",
    "print(\"🔄 반복문 vs 리스트 컴프리헨션 비교\")\n",
    "print(\"=\" * 60)\n",
    "\n",
    "# 방법 1: 일반적인 for 반복문 사용\n",
    "print(\"1️⃣ 일반적인 for 반복문:\")\n",
    "squares_for_loop = []\n",
    "for x in range(1, 11):\n",
    "    squares_for_loop.append(x**2)\n",
    "print(f\"결과: {squares_for_loop}\")\n",
    "\n",
    "print(\"\\n2️⃣ 리스트 컴프리헨션:\")\n",
    "squares_comprehension = [x**2 for x in range(1, 11)]\n",
    "print(f\"결과: {squares_comprehension}\")\n",
    "\n",
    "print(f\"\\n✅ 두 방법의 결과가 같은가? {squares_for_loop == squares_comprehension}\")\n",
    "\n",
    "# 코드 길이 비교\n",
    "print(\"\\n📏 코드 길이 비교:\")\n",
    "print(\"반복문: 3줄\")\n",
    "print(\"리스트 컴프리헨션: 1줄\")\n",
    "print(\"→ 리스트 컴프리헨션이 더 간결하고 읽기 쉽습니다!\")\n"
   ]
  },
  {
   "cell_type": "code",
   "execution_count": 3,
   "metadata": {
    "ExecuteTime": {
     "end_time": "2025-09-05T04:55:07.462452Z",
     "start_time": "2025-09-05T04:55:07.450668Z"
    }
   },
   "outputs": [
    {
     "name": "stdout",
     "output_type": "stream",
     "text": [
      "🎯 다양한 리스트 컴프리헨션 패턴 연습\n",
      "============================================================\n",
      "1️⃣ 기본 패턴 - 1부터 10까지 제곱:\n",
      "결과: [1, 4, 9, 16, 25, 36, 49, 64, 81, 100]\n",
      "\n",
      "2️⃣ 조건부 - 1부터 10까지 중 짝수의 제곱:\n",
      "결과: [4, 16, 36, 64, 100]\n",
      "\n",
      "3️⃣ 조건부 - 1부터 10까지 중 홀수의 제곱:\n",
      "결과: [1, 9, 25, 49, 81]\n",
      "\n",
      "4️⃣ 조건부 - 1부터 10까지 중 3의 배수의 제곱:\n",
      "결과: [9, 36, 81]\n",
      "\n",
      "5️⃣ 조건부 - 제곱이 50보다 큰 수들:\n",
      "결과: [64, 81, 100]\n",
      "\n",
      "6️⃣ 문자열 변환 - 'x² = y' 형태:\n",
      "  1² = 1\n",
      "  2² = 4\n",
      "  3² = 9\n",
      "  4² = 16\n",
      "  5² = 25\n",
      "  6² = 36\n",
      "  7² = 49\n",
      "  8² = 64\n",
      "  9² = 81\n",
      "  10² = 100\n"
     ]
    }
   ],
   "source": [
    "# 다양한 리스트 컴프리헨션 패턴 연습\n",
    "print(\"🎯 다양한 리스트 컴프리헨션 패턴 연습\")\n",
    "print(\"=\" * 60)\n",
    "\n",
    "# 1. 기본 패턴 (1~10 제곱)\n",
    "print(\"1️⃣ 기본 패턴 - 1부터 10까지 제곱:\")\n",
    "basic_squares = [x**2 for x in range(1, 11)]\n",
    "print(f\"결과: {basic_squares}\")\n",
    "\n",
    "# 2. 조건부 리스트 컴프리헨션 (짝수만)\n",
    "print(\"\\n2️⃣ 조건부 - 1부터 10까지 중 짝수의 제곱:\")\n",
    "even_squares = [x**2 for x in range(1, 11) if x % 2 == 0]\n",
    "print(f\"결과: {even_squares}\")\n",
    "\n",
    "# 3. 홀수의 제곱\n",
    "print(\"\\n3️⃣ 조건부 - 1부터 10까지 중 홀수의 제곱:\")\n",
    "odd_squares = [x**2 for x in range(1, 11) if x % 2 == 1]\n",
    "print(f\"결과: {odd_squares}\")\n",
    "\n",
    "# 4. 3의 배수의 제곱\n",
    "print(\"\\n4️⃣ 조건부 - 1부터 10까지 중 3의 배수의 제곱:\")\n",
    "multiple_of_3_squares = [x**2 for x in range(1, 11) if x % 3 == 0]\n",
    "print(f\"결과: {multiple_of_3_squares}\")\n",
    "\n",
    "# 5. 제곱이 50보다 큰 수들\n",
    "print(\"\\n5️⃣ 조건부 - 제곱이 50보다 큰 수들:\")\n",
    "large_squares = [x**2 for x in range(1, 11) if x**2 > 50]\n",
    "print(f\"결과: {large_squares}\")\n",
    "\n",
    "# 6. 문자열 형태로 변환\n",
    "print(\"\\n6️⃣ 문자열 변환 - 'x² = y' 형태:\")\n",
    "square_strings = [f\"{x}² = {x**2}\" for x in range(1, 11)]\n",
    "for s in square_strings:\n",
    "    print(f\"  {s}\")\n"
   ]
  },
  {
   "cell_type": "code",
   "execution_count": 4,
   "metadata": {
    "ExecuteTime": {
     "end_time": "2025-09-05T04:55:11.915617Z",
     "start_time": "2025-09-05T04:55:11.884184Z"
    }
   },
   "outputs": [
    {
     "name": "stdout",
     "output_type": "stream",
     "text": [
      "⚡ 성능 비교 및 최종 결과\n",
      "============================================================\n",
      "🔄 반복문 실행 시간: 0.006707초\n",
      "⚡ 리스트 컴프리헨션 실행 시간: 0.005743초\n",
      "📈 성능 차이: 1.17배\n",
      "\n",
      "📋 최종 결과 요약:\n",
      "==============================\n",
      "1부터 10까지의 제곱 리스트: [1, 4, 9, 16, 25, 36, 49, 64, 81, 100]\n",
      "리스트 길이: 10\n",
      "최솟값: 1\n",
      "최댓값: 100\n",
      "합계: 385\n",
      "평균: 38.5\n",
      "\n",
      "🎉 Task 2 완료!\n",
      "✅ 리스트 컴프리헨션을 사용하여 1부터 10까지의 제곱 리스트를 성공적으로 생성했습니다!\n"
     ]
    }
   ],
   "source": [
    "# 성능 비교 및 최종 결과\n",
    "print(\"⚡ 성능 비교 및 최종 결과\")\n",
    "print(\"=\" * 60)\n",
    "\n",
    "import time\n",
    "\n",
    "# 성능 테스트\n",
    "def test_performance():\n",
    "    \"\"\"반복문과 리스트 컴프리헨션의 성능 비교\"\"\"\n",
    "    \n",
    "    # 반복문 성능 테스트\n",
    "    start_time = time.time()\n",
    "    for _ in range(10000):\n",
    "        squares_for = []\n",
    "        for x in range(1, 11):\n",
    "            squares_for.append(x**2)\n",
    "    for_loop_time = time.time() - start_time\n",
    "    \n",
    "    # 리스트 컴프리헨션 성능 테스트\n",
    "    start_time = time.time()\n",
    "    for _ in range(10000):\n",
    "        squares_comp = [x**2 for x in range(1, 11)]\n",
    "    comprehension_time = time.time() - start_time\n",
    "    \n",
    "    return for_loop_time, comprehension_time\n",
    "\n",
    "# 성능 테스트 실행\n",
    "for_time, comp_time = test_performance()\n",
    "\n",
    "print(f\"🔄 반복문 실행 시간: {for_time:.6f}초\")\n",
    "print(f\"⚡ 리스트 컴프리헨션 실행 시간: {comp_time:.6f}초\")\n",
    "print(f\"📈 성능 차이: {for_time/comp_time:.2f}배\")\n",
    "\n",
    "# 최종 결과 요약\n",
    "print(\"\\n📋 최종 결과 요약:\")\n",
    "print(\"=\" * 30)\n",
    "final_squares = [x**2 for x in range(1, 11)]\n",
    "print(f\"1부터 10까지의 제곱 리스트: {final_squares}\")\n",
    "print(f\"리스트 길이: {len(final_squares)}\")\n",
    "print(f\"최솟값: {min(final_squares)}\")\n",
    "print(f\"최댓값: {max(final_squares)}\")\n",
    "print(f\"합계: {sum(final_squares)}\")\n",
    "print(f\"평균: {sum(final_squares)/len(final_squares):.1f}\")\n",
    "\n",
    "print(\"\\n🎉 Task 2 완료!\")\n",
    "print(\"✅ 리스트 컴프리헨션을 사용하여 1부터 10까지의 제곱 리스트를 성공적으로 생성했습니다!\")\n"
   ]
  }
 ],
 "metadata": {
  "kernelspec": {
   "display_name": "Python 3 (ipykernel)",
   "language": "python",
   "name": "python3"
  },
  "language_info": {
   "name": "python"
  }
 },
 "nbformat": 4,
 "nbformat_minor": 2
}
